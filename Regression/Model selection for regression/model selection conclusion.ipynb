{
 "cells": [
  {
   "cell_type": "markdown",
   "id": "1afc5fe8-10d6-42ec-b84a-4eba8af41a42",
   "metadata": {},
   "source": [
    "so we have created different model for same data and we have  the  r^2 value for each of the model. so if we companre them we can see random forest regression has the most r^2 value is higher. so we can choose random forest regression as the model"
   ]
  },
  {
   "cell_type": "code",
   "execution_count": null,
   "id": "443bdc80-264e-4070-86c6-0f08550595c4",
   "metadata": {},
   "outputs": [],
   "source": []
  }
 ],
 "metadata": {
  "kernelspec": {
   "display_name": "Python 3 (ipykernel)",
   "language": "python",
   "name": "python3"
  },
  "language_info": {
   "codemirror_mode": {
    "name": "ipython",
    "version": 3
   },
   "file_extension": ".py",
   "mimetype": "text/x-python",
   "name": "python",
   "nbconvert_exporter": "python",
   "pygments_lexer": "ipython3",
   "version": "3.13.5"
  }
 },
 "nbformat": 4,
 "nbformat_minor": 5
}
